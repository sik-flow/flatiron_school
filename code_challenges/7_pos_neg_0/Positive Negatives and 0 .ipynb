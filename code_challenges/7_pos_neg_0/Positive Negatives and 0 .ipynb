{
 "cells": [
  {
   "cell_type": "markdown",
   "metadata": {},
   "source": [
    "```\n",
    "Given an array of integers, calculate the fractions of its elements that are positive, negative, and are zeros. Print the decimal value of each fraction on a new line.\n",
    "arr = [1, 1, 0, -1, -1 ]\n",
    "output \n",
    "0.4\n",
    "0.4\n",
    "0.2\n",
    "```"
   ]
  },
  {
   "cell_type": "code",
   "execution_count": 1,
   "metadata": {},
   "outputs": [],
   "source": [
    "arr = [1, 1, 0, -1, -1 ]"
   ]
  },
  {
   "cell_type": "code",
   "execution_count": 2,
   "metadata": {},
   "outputs": [],
   "source": [
    "def plusMinus(my_arr):\n",
    "    '''\n",
    "    Function to caluculate percentage of numbers that are positive, negative and 0\n",
    "    \n",
    "    Args:\n",
    "        my_arry (list): list of numbers\n",
    "        \n",
    "    Returns:\n",
    "        print percentage of numbers that are postive, negative, and 0\n",
    "    '''\n",
    "    pos_num = 0\n",
    "    neg_num = 0\n",
    "    zero_num = 0\n",
    "    total_nums = len(my_arr)\n",
    "    for num in my_arr:\n",
    "        if num > 0:\n",
    "            pos_num += 1\n",
    "        elif num < 0:\n",
    "            neg_num += 1\n",
    "        else:\n",
    "            zero_num += 1\n",
    "    print(pos_num / total_nums)\n",
    "    print(neg_num / total_nums)\n",
    "    print(zero_num / total_nums)"
   ]
  },
  {
   "cell_type": "code",
   "execution_count": 3,
   "metadata": {},
   "outputs": [
    {
     "name": "stdout",
     "output_type": "stream",
     "text": [
      "0.4\n",
      "0.4\n",
      "0.2\n"
     ]
    }
   ],
   "source": [
    "plusMinus(arr)"
   ]
  },
  {
   "cell_type": "code",
   "execution_count": 8,
   "metadata": {},
   "outputs": [
    {
     "data": {
      "text/plain": [
       "0.2"
      ]
     },
     "execution_count": 8,
     "metadata": {},
     "output_type": "execute_result"
    }
   ],
   "source": [
    "len([x for x in arr if x == 0]) / len(arr)"
   ]
  },
  {
   "cell_type": "code",
   "execution_count": 10,
   "metadata": {},
   "outputs": [],
   "source": [
    "def plusMinus(my_arr):\n",
    "    '''\n",
    "    Function to caluculate percentage of numbers that are positive, negative and 0\n",
    "    \n",
    "    Args:\n",
    "        my_arry (list): list of numbers\n",
    "        \n",
    "    Returns:\n",
    "        print percentage of numbers that are postive, negative, and 0\n",
    "    '''\n",
    "    print(len([x for x in my_arr if x > 0]) / len(my_arr))\n",
    "    print(len([x for x in my_arr if x < 0]) / len(my_arr))\n",
    "    print(len([x for x in my_arr if x == 0]) / len(my_arr))"
   ]
  },
  {
   "cell_type": "code",
   "execution_count": 11,
   "metadata": {},
   "outputs": [
    {
     "name": "stdout",
     "output_type": "stream",
     "text": [
      "0.4\n",
      "0.4\n",
      "0.2\n"
     ]
    }
   ],
   "source": [
    "plusMinus(arr)"
   ]
  }
 ],
 "metadata": {
  "kernelspec": {
   "display_name": "Python 3",
   "language": "python",
   "name": "python3"
  },
  "language_info": {
   "codemirror_mode": {
    "name": "ipython",
    "version": 3
   },
   "file_extension": ".py",
   "mimetype": "text/x-python",
   "name": "python",
   "nbconvert_exporter": "python",
   "pygments_lexer": "ipython3",
   "version": "3.7.4"
  }
 },
 "nbformat": 4,
 "nbformat_minor": 2
}
